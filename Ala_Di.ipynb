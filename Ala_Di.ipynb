{
 "cells": [
  {
   "cell_type": "code",
   "execution_count": 18,
   "id": "732e8be1",
   "metadata": {},
   "outputs": [],
   "source": [
    "import numpy as np\n",
    "import MDAnalysis\n",
    "import matplotlib.pyplot as plt"
   ]
  },
  {
   "cell_type": "markdown",
   "id": "f7f88fc0",
   "metadata": {},
   "source": [
    "## Analyzing one pdb"
   ]
  },
  {
   "cell_type": "code",
   "execution_count": 19,
   "id": "e01de82e",
   "metadata": {},
   "outputs": [
    {
     "name": "stderr",
     "output_type": "stream",
     "text": [
      "/home/shaunak/work/software/miniconda3/envs/MDAnalysis_Tut/lib/python3.10/site-packages/MDAnalysis/topology/PDBParser.py:317: UserWarning: Element information is missing, elements attribute will not be populated. If needed these can be guessed using MDAnalysis.topology.guessers.\n",
      "  warnings.warn(\"Element information is missing, elements attribute \"\n"
     ]
    },
    {
     "data": {
      "text/plain": [
       "<Universe with 22 atoms>"
      ]
     },
     "execution_count": 19,
     "metadata": {},
     "output_type": "execute_result"
    }
   ],
   "source": [
    "u = MDAnalysis.Universe('files/alanine-dipeptide.pdb')\n",
    "u"
   ]
  },
  {
   "cell_type": "markdown",
   "id": "f3db6cc2",
   "metadata": {},
   "source": [
    "* MDAnalysis creates a `Universe object` for the configuration that you load\n",
    "* From this universe object, we can access a ton of information about the system"
   ]
  },
  {
   "cell_type": "code",
   "execution_count": 20,
   "id": "0df0d5b4",
   "metadata": {},
   "outputs": [
    {
     "name": "stdout",
     "output_type": "stream",
     "text": [
      "No of atoms :  22\n",
      "No of residues :  3\n",
      "\n",
      "List of residues : \n",
      "ACE\n",
      "ALA\n",
      "NME\n",
      "\n",
      "List of atoms : [Name in PDB], [Atom symbol], [Atom id]\n",
      "1HH3, H, 1\n",
      "CH3, C, 2\n",
      "2HH3, H, 3\n",
      "3HH3, H, 4\n",
      "C, C, 5\n",
      "O, O, 6\n",
      "N, N, 7\n",
      "H, H, 8\n",
      "CA, C, 9\n",
      "HA, H, 10\n",
      "CB, C, 11\n",
      "1HB, H, 12\n",
      "2HB, H, 13\n",
      "3HB, H, 14\n",
      "C, C, 15\n",
      "O, O, 16\n",
      "N, N, 17\n",
      "H, H, 18\n",
      "CH3, C, 19\n",
      "1HH3, H, 20\n",
      "2HH3, H, 21\n",
      "3HH3, H, 22\n"
     ]
    }
   ],
   "source": [
    "print(\"No of atoms : \", u.atoms.n_atoms)\n",
    "print(\"No of residues : \", u.residues.n_residues)\n",
    "print()\n",
    "print(\"List of residues : \")\n",
    "for residue in u.residues:\n",
    "    print(residue.resname)\n",
    "print()\n",
    "print(\"List of atoms : [Name in PDB], [Atom symbol], [Atom id]\")\n",
    "for atom in u.atoms:\n",
    "    print(\"{}, {}, {}\".format(atom.name, atom.type, atom.id))"
   ]
  },
  {
   "cell_type": "markdown",
   "id": "2d0df6c0",
   "metadata": {},
   "source": [
    "### More attributes can be found in the [docs](https://docs.mdanalysis.org/1.0.0/documentation_pages/core/universe.html)"
   ]
  },
  {
   "cell_type": "markdown",
   "id": "cc25c758",
   "metadata": {},
   "source": [
    "* We will calculate phi ($\\phi$) and psi ($\\psi$) for this pdb.\n",
    "* More information about phi and psi can be found [here](https://mattermodeling.stackexchange.com/questions/2170/dihedral-angles-of-alanine-dipeptide).\n",
    "* $\\phi$ is the dihedral angle from carbonyl carbon $C_{i-1}$, to nitrogen ($N_i$), to C-alpha ($C_{\\alpha})_i$ and to the next carbonyl carbon $C_i$.\n",
    "* Below is the visualization that was done in VMD, to visualize the $\\phi$ dihedral angle.\n",
    "![phi](./images/phi.png)\n"
   ]
  },
  {
   "cell_type": "markdown",
   "id": "b9fa4f4f",
   "metadata": {},
   "source": [
    "* The atom indices for these (0-indexed) are 4, 6, 8, 14\n",
    "* We can select these atoms in python using the `select_atoms` function of the universe."
   ]
  },
  {
   "cell_type": "code",
   "execution_count": 21,
   "id": "7e0637fe",
   "metadata": {},
   "outputs": [
    {
     "name": "stdout",
     "output_type": "stream",
     "text": [
      "C ACE\n",
      "N ALA\n",
      "CA ALA\n",
      "C ALA\n"
     ]
    }
   ],
   "source": [
    "phi = u.select_atoms('index 4 or index 6 or index 8 or index 14')\n",
    "for atom in phi:\n",
    "    print(atom.name, atom.resname)"
   ]
  },
  {
   "cell_type": "markdown",
   "id": "7589bebf",
   "metadata": {},
   "source": [
    "* We can do the same for $\\psi$\n",
    "* $\\psi$ is the dihedral from nitrogen (the same from the definition of $\\phi$) $N_i$, to the alpha carbon $(C_{\\alpha})_i$, to the carbonyl carbon $C_i$, to the next nitrogen $N_{i+1}$.\n",
    "![psi](./images/psi.png)"
   ]
  },
  {
   "cell_type": "markdown",
   "id": "396f6b6b",
   "metadata": {},
   "source": [
    "* The atom indices for these are 6, 8, 14, 16."
   ]
  },
  {
   "cell_type": "code",
   "execution_count": 22,
   "id": "b62d3014",
   "metadata": {},
   "outputs": [
    {
     "name": "stdout",
     "output_type": "stream",
     "text": [
      "N ALA\n",
      "CA ALA\n",
      "C ALA\n",
      "N NME\n"
     ]
    }
   ],
   "source": [
    "psi = u.select_atoms('index 6 or index 8 or index 14 or index 16')\n",
    "for atom in psi:\n",
    "    print(atom.name, atom.resname)"
   ]
  },
  {
   "cell_type": "markdown",
   "id": "3a3d38ca",
   "metadata": {},
   "source": [
    "### Okay, now let's get down to actually calculating the dihedral angle\n",
    "\n",
    "* The dihedral angle is defined as the angle between two planes.\n",
    "* One plane is formed by atoms (1, 2, 3), and the other plane is formed by atoms (2, 3, 4)."
   ]
  },
  {
   "cell_type": "code",
   "execution_count": 23,
   "id": "0b1b391e",
   "metadata": {},
   "outputs": [
    {
     "name": "stderr",
     "output_type": "stream",
     "text": [
      "/home/shaunak/work/software/miniconda3/envs/MDAnalysis_Tut/lib/python3.10/site-packages/MDAnalysis/coordinates/base.py:892: UserWarning: Reader has no dt information, set to 1.0 ps\n",
      "  warnings.warn(\"Reader has no dt information, set to 1.0 ps\")\n"
     ]
    }
   ],
   "source": [
    "from MDAnalysis.analysis.dihedrals import Dihedral\n",
    "phi_angle = Dihedral([phi]).run()\n",
    "psi_angle = Dihedral([psi]).run()"
   ]
  },
  {
   "cell_type": "code",
   "execution_count": 24,
   "id": "4c694018",
   "metadata": {},
   "outputs": [
    {
     "name": "stdout",
     "output_type": "stream",
     "text": [
      "phi :  180.0\n",
      "psi :  -180.0\n"
     ]
    },
    {
     "name": "stderr",
     "output_type": "stream",
     "text": [
      "/home/shaunak/work/software/miniconda3/envs/MDAnalysis_Tut/lib/python3.10/site-packages/MDAnalysis/analysis/dihedrals.py:337: DeprecationWarning: The `angle` attribute was deprecated in MDAnalysis 2.0.0 and will be removed in MDAnalysis 3.0.0. Please use `results.angles` instead\n",
      "  warnings.warn(wmsg, DeprecationWarning)\n"
     ]
    }
   ],
   "source": [
    "phi_value = phi_angle.angles.flatten()[0]\n",
    "psi_value = psi_angle.angles.flatten()[0]\n",
    "print(\"phi : \", phi_value)\n",
    "print(\"psi : \", psi_value)"
   ]
  },
  {
   "cell_type": "markdown",
   "id": "434f02a0",
   "metadata": {},
   "source": [
    "### Dealing with trajectories"
   ]
  },
  {
   "cell_type": "markdown",
   "id": "e4e73a35",
   "metadata": {},
   "source": [
    "* You can load any trajectory, be it the output from NAMD, AMBER, GROMACS, OR LAMMPS.\n",
    "* Here we will load a trajectory from GROMACS output"
   ]
  },
  {
   "cell_type": "code",
   "execution_count": 25,
   "id": "c2eb8516",
   "metadata": {},
   "outputs": [
    {
     "data": {
      "text/plain": [
       "<TRRReader ./files/ala_di.trr with 10001 frames of 22 atoms>"
      ]
     },
     "execution_count": 25,
     "metadata": {},
     "output_type": "execute_result"
    }
   ],
   "source": [
    "u = MDAnalysis.Universe('./files/conf.gro', './files/ala_di.trr')\n",
    "u.trajectory"
   ]
  },
  {
   "cell_type": "markdown",
   "id": "1dd2932e",
   "metadata": {},
   "source": [
    "#### Traversing the trajectory\n",
    "\n",
    "* The universe returns information about the first frame when accessed like a universe object\n",
    "* Just by accessing the index of another frame, we can change the frame"
   ]
  },
  {
   "cell_type": "code",
   "execution_count": 26,
   "id": "77fae94c",
   "metadata": {},
   "outputs": [
    {
     "name": "stdout",
     "output_type": "stream",
     "text": [
      "Frame 0 ; Position of first atom :  [ 2.0064120e+00  2.0949879e+00 -1.1733850e-05]\n",
      "Frame 1 ; Position of first atom :  [2.2025487  2.1253457  0.30689952]\n",
      "Switching back to first frame : \n"
     ]
    }
   ],
   "source": [
    "print(\"Frame 0 ; Position of first atom : \", u.atoms.positions[0])\n",
    "u.trajectory[1]\n",
    "print(\"Frame 1 ; Position of first atom : \", u.atoms.positions[0])\n",
    "print(\"Switching back to first frame : \")\n",
    "_ = u.trajectory[0]"
   ]
  },
  {
   "cell_type": "markdown",
   "id": "b72f3722",
   "metadata": {},
   "source": [
    "* Hence, we can loop through `u.trajectory` without referencing the loop variable `ts`"
   ]
  },
  {
   "cell_type": "code",
   "execution_count": 27,
   "id": "594c3202",
   "metadata": {},
   "outputs": [
    {
     "name": "stdout",
     "output_type": "stream",
     "text": [
      "Frame 0 ; position of first atom  [ 2.0064120e+00  2.0949879e+00 -1.1733850e-05]\n",
      "Frame 1 ; position of first atom  [2.2025487  2.1253457  0.30689952]\n",
      "Frame 2 ; position of first atom  [2.5536041  2.1555233  0.81952065]\n",
      "Frame 3 ; position of first atom  [2.6031077 2.2014782 0.8281182]\n",
      "Frame 4 ; position of first atom  [2.7288246 2.120362  0.8614751]\n",
      "Frame 5 ; position of first atom  [2.5633433  2.1771584  0.85011864]\n",
      "Frame 6 ; position of first atom  [2.2974885  2.2386591  0.48562694]\n",
      "Frame 7 ; position of first atom  [1.9939548  2.1101153  0.09093706]\n",
      "Frame 8 ; position of first atom  [1.9562923  2.1675396  0.36285323]\n",
      "Frame 9 ; position of first atom  [2.191678  1.9884723 0.4055063]\n",
      "Frame 10 ; position of first atom  [2.1759682  2.1768475  0.32742798]\n"
     ]
    }
   ],
   "source": [
    "for i, ts in enumerate(u.trajectory):\n",
    "    if i > 10:\n",
    "        break\n",
    "    print(\"Frame {} ; position of first atom \".format(i), u.atoms.positions[0])\n",
    "    "
   ]
  },
  {
   "cell_type": "markdown",
   "id": "28cafdd5",
   "metadata": {},
   "source": [
    "### Calculating dihedrals for the trajectory\n",
    "* We select the atoms like we did earlier, and then pass the entire object (object contains trajectory information as well). The dihedral function will take care of it."
   ]
  },
  {
   "cell_type": "code",
   "execution_count": 28,
   "id": "f9ca2a28",
   "metadata": {},
   "outputs": [],
   "source": [
    "phi_sel = u.select_atoms('index 4 or index 6 or index 8 or index 14')\n",
    "\n",
    "phi_t = Dihedral([phi_sel]).run()\n",
    "phi_traj = phi_t.angles.flatten()"
   ]
  },
  {
   "cell_type": "code",
   "execution_count": 29,
   "id": "420cb3a7",
   "metadata": {},
   "outputs": [
    {
     "data": {
      "text/plain": [
       "Text(0, 0.5, '$\\\\phi$')"
      ]
     },
     "execution_count": 29,
     "metadata": {},
     "output_type": "execute_result"
    },
    {
     "data": {
      "image/png": "[encoded data removed]",
      "text/plain": [
       "<Figure size 432x288 with 1 Axes>"
      ]
     },
     "metadata": {
      "needs_background": "light"
     },
     "output_type": "display_data"
    }
   ],
   "source": [
    "plt.plot(phi_traj)\n",
    "plt.xlabel('Frame Number', fontsize = 15)\n",
    "plt.ylabel(r'$\\phi$', fontsize = 15)"
   ]
  },
  {
   "cell_type": "markdown",
   "id": "21439fe3",
   "metadata": {},
   "source": [
    "#### Similarly, for $\\psi$"
   ]
  },
  {
   "cell_type": "code",
   "execution_count": 30,
   "id": "986d3816",
   "metadata": {},
   "outputs": [
    {
     "name": "stderr",
     "output_type": "stream",
     "text": [
      "/home/shaunak/work/software/miniconda3/envs/MDAnalysis_Tut/lib/python3.10/site-packages/MDAnalysis/analysis/dihedrals.py:337: DeprecationWarning: The `angle` attribute was deprecated in MDAnalysis 2.0.0 and will be removed in MDAnalysis 3.0.0. Please use `results.angles` instead\n",
      "  warnings.warn(wmsg, DeprecationWarning)\n"
     ]
    }
   ],
   "source": [
    "psi_sel = u.select_atoms('index 6 or index 8 or index 14 or index 16')\n",
    "\n",
    "psi_t = Dihedral([psi_sel]).run()\n",
    "psi_traj = psi_t.angles.flatten()"
   ]
  },
  {
   "cell_type": "code",
   "execution_count": 31,
   "id": "684e02c0",
   "metadata": {},
   "outputs": [
    {
     "data": {
      "text/plain": [
       "Text(0, 0.5, '$\\\\psi$')"
      ]
     },
     "execution_count": 31,
     "metadata": {},
     "output_type": "execute_result"
    },
    {
     "data": {
      "image/png": "[encoded data removed]",
      "text/plain": [
       "<Figure size 432x288 with 1 Axes>"
      ]
     },
     "metadata": {
      "needs_background": "light"
     },
     "output_type": "display_data"
    }
   ],
   "source": [
    "plt.plot(psi_traj)\n",
    "plt.xlabel('Frame Number', fontsize = 15)\n",
    "plt.ylabel(r'$\\psi$', fontsize = 15)"
   ]
  },
  {
   "cell_type": "code",
   "execution_count": 32,
   "id": "3ed73397",
   "metadata": {},
   "outputs": [
    {
     "data": {
      "text/plain": [
       "Text(0.5, 1.0, 'Scatter plot of $\\\\phi$ and $\\\\psi$')"
      ]
     },
     "execution_count": 32,
     "metadata": {},
     "output_type": "execute_result"
    },
    {
     "data": {
      "image/png": "[encoded data removed]",
      "text/plain": [
       "<Figure size 432x288 with 1 Axes>"
      ]
     },
     "metadata": {
      "needs_background": "light"
     },
     "output_type": "display_data"
    }
   ],
   "source": [
    "plt.scatter(phi_traj, psi_traj)\n",
    "plt.xlabel(r'$\\phi$', fontsize = 15)\n",
    "plt.ylabel(r'$\\psi$', fontsize = 15)\n",
    "plt.title('Scatter plot of $\\phi$ and $\\psi$', fontsize = 20)"
   ]
  },
  {
   "cell_type": "markdown",
   "id": "fcba107a",
   "metadata": {},
   "source": [
    "### For something simpler, like distance between the first and the last atom, we can simply loop through the trajectory"
   ]
  },
  {
   "cell_type": "code",
   "execution_count": 33,
   "id": "eb891ccc",
   "metadata": {},
   "outputs": [],
   "source": [
    "distances = []\n",
    "\n",
    "for ts in u.trajectory:\n",
    "    pos = u.atoms.positions\n",
    "    required_distance = np.linalg.norm(pos[0] - pos[-1])\n",
    "    distances.append(required_distance)"
   ]
  },
  {
   "cell_type": "code",
   "execution_count": 34,
   "id": "674ba1ab",
   "metadata": {},
   "outputs": [
    {
     "data": {
      "text/plain": [
       "Text(0, 0.5, '$|{\\\\bf r}_0 - {\\\\bf r}_{N - 1}| (\\\\AA)$')"
      ]
     },
     "execution_count": 34,
     "metadata": {},
     "output_type": "execute_result"
    },
    {
     "data": {
      "image/png": "[encoded data removed]",
      "text/plain": [
       "<Figure size 432x288 with 1 Axes>"
      ]
     },
     "metadata": {
      "needs_background": "light"
     },
     "output_type": "display_data"
    }
   ],
   "source": [
    "plt.plot(distances)\n",
    "plt.xlabel('Frame Number')\n",
    "plt.ylabel(r'$|{\\bf r}_0 - {\\bf r}_{N - 1}| (\\AA)$', fontsize = 15)"
   ]
  },
  {
   "cell_type": "markdown",
   "id": "186245b0",
   "metadata": {},
   "source": [
    "### More possibilities : \n",
    "* Using this data, combined with `sum_hills` functionality of `plumed`, to create a 1D / 2D free energy surface from an NVT / NPT trajectory.\n",
    "* Calculating RMSD w.r.t a reference structure (slightly complex, using MDAnalysis)."
   ]
  }
 ],
 "metadata": {
  "kernelspec": {
   "display_name": "Tut",
   "language": "python",
   "name": "tut"
  },
  "language_info": {
   "codemirror_mode": {
    "name": "ipython",
    "version": 3
   },
   "file_extension": ".py",
   "mimetype": "text/x-python",
   "name": "python",
   "nbconvert_exporter": "python",
   "pygments_lexer": "ipython3",
   "version": "3.10.4"
  }
 },
 "nbformat": 4,
 "nbformat_minor": 5
}
